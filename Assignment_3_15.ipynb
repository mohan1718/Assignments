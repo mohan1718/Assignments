{
 "cells": [
  {
   "cell_type": "code",
   "execution_count": 1,
   "metadata": {
    "collapsed": false
   },
   "outputs": [
    {
     "name": "stdout",
     "output_type": "stream",
     "text": [
      "program started\n",
      "1.MAC\n",
      "2.LINUX\n",
      "3.WINDOWS\n",
      "enter an option: 1\n",
      "MAC selected\n",
      "Do you want to select again? (Y/N): 3\n",
      "Do you want to select again? (Y/N): y\n",
      "1.MAC\n",
      "2.LINUX\n",
      "3.WINDOWS\n",
      "enter an option: 2\n",
      "LINUX selected\n",
      "Do you want to select again? (Y/N): y\n",
      "1.MAC\n",
      "2.LINUX\n",
      "3.WINDOWS\n",
      "enter an option: 4\n",
      "wrong selection. Enter valid input\n",
      "1.MAC\n",
      "2.LINUX\n",
      "3.WINDOWS\n",
      "enter an option: 2\n",
      "LINUX selected\n",
      "Do you want to select again? (Y/N): Y\n",
      "1.MAC\n",
      "2.LINUX\n",
      "3.WINDOWS\n",
      "enter an option: 2\n",
      "LINUX selected\n",
      "Do you want to select again? (Y/N): N\n",
      "User opted to quit\n",
      "other statements in program\n",
      "program Executed till Last step\n"
     ]
    }
   ],
   "source": [
    "print \"program started\"\n",
    "temp='y'\n",
    "while True:\n",
    "    if temp=='y':\n",
    "        print \"1.MAC\\n2.LINUX\\n3.WINDOWS\"\n",
    "        opt = raw_input(\"enter an option: \")\n",
    "        if opt==\"1\":\n",
    "            print \"MAC selected\"\n",
    "        elif opt==\"2\":\n",
    "            print \"LINUX selected\"\n",
    "        elif opt==\"3\":\n",
    "            print \"WINDOWS SELECTED\"\n",
    "        else:\n",
    "            print \"wrong selection. Enter valid input\"\n",
    "            continue\n",
    "        \n",
    "    usr_input=raw_input(\"Do you want to select again? (Y/N): \")\n",
    "    if usr_input.lower() =='n':\n",
    "        print \"User opted to quit\"\n",
    "        break\n",
    "    elif usr_input.lower() == 'y':\n",
    "        temp='y'\n",
    "    else:\n",
    "        temp='n'\n",
    "print \"other statements in program\"\n",
    "print \"program Executed till Last step\""
   ]
  },
  {
   "cell_type": "code",
   "execution_count": null,
   "metadata": {
    "collapsed": true
   },
   "outputs": [],
   "source": []
  }
 ],
 "metadata": {
  "kernelspec": {
   "display_name": "Python 2",
   "language": "python",
   "name": "python2"
  },
  "language_info": {
   "codemirror_mode": {
    "name": "ipython",
    "version": 2
   },
   "file_extension": ".py",
   "mimetype": "text/x-python",
   "name": "python",
   "nbconvert_exporter": "python",
   "pygments_lexer": "ipython2",
   "version": "2.7.13"
  }
 },
 "nbformat": 4,
 "nbformat_minor": 2
}
