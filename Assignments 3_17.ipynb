{
 "cells": [
  {
   "cell_type": "code",
   "execution_count": 3,
   "metadata": {
    "collapsed": false
   },
   "outputs": [
    {
     "name": "stdout",
     "output_type": "stream",
     "text": [
      "Enter the main string: python Program\n",
      "Enter the sub string: p\n",
      "python Program\n",
      "0 p\n",
      "7 P\n"
     ]
    }
   ],
   "source": [
    "#To find second or third ocurrence of a character in a string\n",
    "str1=raw_input(\"Enter the main string: \")\n",
    "sub_str2= raw_input(\"Enter the sub string: \")\n",
    "print str1\n",
    "while True:\n",
    "    for i in str1:\n",
    "        if i.lower()==sub_str2:\n",
    "            print str1.find(i),i\n",
    "    else:\n",
    "        break"
   ]
  },
  {
   "cell_type": "code",
   "execution_count": 4,
   "metadata": {
    "collapsed": false
   },
   "outputs": [
    {
     "name": "stdout",
     "output_type": "stream",
     "text": [
      "Enter the main string: Python program\n",
      "Enter the sub string: ThOn\n",
      "Main String:  Python program\n",
      "2\n"
     ]
    }
   ],
   "source": [
    "#WAP to find index of substring.(case insensitive) get the actual and substring from the user\n",
    "str1=raw_input(\"Enter the main string: \")\n",
    "sub_str2= raw_input(\"Enter the sub string: \")\n",
    "print \"Main String: \", str1\n",
    "op=str1.lower().index(sub_str2.lower())\n",
    "print op"
   ]
  },
  {
   "cell_type": "code",
   "execution_count": 5,
   "metadata": {
    "collapsed": false
   },
   "outputs": [
    {
     "name": "stdout",
     "output_type": "stream",
     "text": [
      "Enter the main string: python program\n",
      "Python Program\n"
     ]
    }
   ],
   "source": [
    "# wap to convert every first letter of a word in to uppercase(only alphabets not a number)\n",
    "str1=raw_input(\"Enter the main string: \")\n",
    "op_str=str1.title()\n",
    "print op_str"
   ]
  },
  {
   "cell_type": "code",
   "execution_count": 6,
   "metadata": {
    "collapsed": false
   },
   "outputs": [
    {
     "name": "stdout",
     "output_type": "stream",
     "text": [
      "Enter the main string: pyThon Program\n",
      "Contains Capital\n"
     ]
    }
   ],
   "source": [
    "# wap to findout given string contains capital letters or not using for else block\n",
    "s=raw_input(\"Enter the main string: \")\n",
    "for char in s:\n",
    "    if char.isupper():\n",
    "        print \"Contains Capital\"\n",
    "        break\n",
    "else:\n",
    "    print \"Does not contains capital\""
   ]
  },
  {
   "cell_type": "code",
   "execution_count": 8,
   "metadata": {
    "collapsed": false
   },
   "outputs": [
    {
     "name": "stdout",
     "output_type": "stream",
     "text": [
      "Enter the source sub sting to be removed:P\n",
      "zython zrogram\n"
     ]
    }
   ],
   "source": [
    "#wap to replace a source sub string with a given destion substring wiht given number of occurances\n",
    "s=\"Python Program\"\n",
    "sr_sub=raw_input(\"Enter the source sub sting to be removed:\")\n",
    "s1='z'\n",
    "for i in s:\n",
    "    new_s=s.replace(sr_sub, s1)\n",
    "print new_s"
   ]
  },
  {
   "cell_type": "code",
   "execution_count": null,
   "metadata": {
    "collapsed": true
   },
   "outputs": [],
   "source": []
  }
 ],
 "metadata": {
  "kernelspec": {
   "display_name": "Python 2",
   "language": "python",
   "name": "python2"
  },
  "language_info": {
   "codemirror_mode": {
    "name": "ipython",
    "version": 2
   },
   "file_extension": ".py",
   "mimetype": "text/x-python",
   "name": "python",
   "nbconvert_exporter": "python",
   "pygments_lexer": "ipython2",
   "version": "2.7.13"
  }
 },
 "nbformat": 4,
 "nbformat_minor": 2
}
